{
 "cells": [
  {
   "metadata": {},
   "cell_type": "markdown",
   "source": [
    "## Introduction: The Tale of Bob and Alice - Securing Communication with Asymmetric Encryption\n",
    "In the digital age, privacy and security are paramount, especially when two people, Bob and Alice, need to exchange sensitive information over an insecure channel (email, chat or similar internet communication channels). \n",
    "This exercise will take you on a journey where you, the learner, help Alice and Bob securely communicate using asymmetric encryption.\n",
    "\n",
    "Alice wants to send a secret message to Bob, but they know that their communication could be intercepted by malicious third parties, like Eve the Eavesdropper. The solution? Encryption using asymmetric keys! Through this exercise, you'll help Alice and Bob establish a secure line of communication using encryption and decryption techniques with public and private keys.\n",
    "\n",
    "This adventure will take place on a single computer (your own), where you'll simulate both Alice and Bob, each with their own set of keys. We'll guide you step by step to help them exchange encrypted messages, decrypt them, and ensure their communication is safe and sound.\n",
    "\n",
    "Let's dive into this fascinating world of cryptography!\n"
   ],
   "id": "f30042afad5a5e76"
  },
  {
   "metadata": {},
   "cell_type": "markdown",
   "source": [
    "## Step 1: Preparing Bob and Alice's Keys (Generating Key Pairs)\n",
    "Every hero needs their tools, and in the world of cryptography, those tools are key pairs. Bob and Alice will each need a private key (kept secret) and a public key (shared openly).\n",
    "\n",
    "You will begin by generating these key pairs using the RSA algorithm:\n",
    "Goal: Generate a pair of keys for Alice and Bob that they will use to secure their communication."
   ],
   "id": "ac3722003f901d5b"
  },
  {
   "metadata": {
    "ExecuteTime": {
     "end_time": "2024-09-01T14:47:47.771558Z",
     "start_time": "2024-09-01T14:47:47.145647Z"
    }
   },
   "cell_type": "code",
   "source": [
    "# Generate Alice's key pair\n",
    "!openssl genpkey -algorithm RSA -out alice_private.pem\n",
    "!openssl rsa -pubout -in alice_private.pem -out alice_public.pem\n",
    "\n",
    "# Generate Bob's key pair\n",
    "!openssl genpkey -algorithm RSA -out bob_private.pem\n",
    "!openssl rsa -pubout -in bob_private.pem -out bob_public.pem"
   ],
   "id": "66a38df5ca450e62",
   "outputs": [
    {
     "name": "stdout",
     "output_type": "stream",
     "text": [
      "....+...+++++++++++++++++++++++++++++++++++++++*..+.......+..+.......+...+...+........+....+++++++++++++++++++++++++++++++++++++++*.+..+............+.+......+..............+......+.+...+...........+....+..+....+.....+................+............+..+.+.........+...+.....+.+.....+.......+........+.......+........+.......+..+.+..+...+......+.........+.+...+.................+.+.........+...+..+....+..+.............+..+............+.............+..+...+...+.+...+.................+.+...+.....+....+..+....+......+.....+...+..........+...+...+......+........+.+......+.....+....+..+..........+............+...............+..+....+..+.......+...............+.....+......+......+....+.....+............+...+....+...+........+......+.+........+....+...+..+.......+.....+...+................+..+....++++++\r\n",
      "........+++++++++++++++++++++++++++++++++++++++*.+..+...+......+.............+............+++++++++++++++++++++++++++++++++++++++*.+..+......+......+....+....................+....+........+...+.......+..+.+......+...+......+..+...................+...+.....+.+......+.....+......+.......+........+...+....+...+.....+...+..........+..+....+...+..+....+.....+.......+........+......+.........+.......+..+......+....+...+..+............+.+.....+..........+...+......+.....+....+..+....+......+..+............+.+..+...............+...+...+....+........+...++++++\r\n",
      "writing RSA key\r\n",
      ".+...+++++++++++++++++++++++++++++++++++++++*..+.........+.+..............+.+.....+...+......+.+...+...+++++++++++++++++++++++++++++++++++++++*.+........+...+.......+...+......+......+..+.......+......+.....+....++++++\r\n",
      "..+++++++++++++++++++++++++++++++++++++++*..+........+++++++++++++++++++++++++++++++++++++++*....+..........+.................+.+...+.....+..........+.....................+.....+.........+.......+...+......+...........+...+.+........+..........+...+..+.......+.....+...+...+.......+...+.........+.........+.....+....+...............+...............................................+.+..+..........+...........+..........+..+.........+...+.+......+...+..+...+.......+.........+.....+.+......+...+.....+......+......+...+....+........+.......+...+...+..............+............+..........+......+...+..............+......+......+..........+......+..+...+...+.......+...+.........+..+...+.......+.........+.....+.......+..+......+......+...............+...+...............+...+.........+....+.....+....+..+.............+..+...+......+....+...............+.....+......+.+........+.+.................+...+....+...+...+.........+..+....+......+.....+......+...+.+......................................+.+..+.........+......+...+.......+.....+...+....+.....+.+......+.....++++++\r\n",
      "writing RSA key\r\n"
     ]
    }
   ],
   "execution_count": 1
  },
  {
   "metadata": {},
   "cell_type": "markdown",
   "source": [
    "## Step 2: Alice Encrypts a Secret Message for Bob\n",
    "Now that Alice has Bob’s public key, she can use it to encrypt a secret message that only Bob will be able to decrypt with his private key.\n",
    "\n",
    "Imagine Alice wants to send Bob the message: \"Hello Bob! Let's keep this secret.\"\n",
    "Alice will encrypt the message using Bob's public key.\n",
    "\n",
    "Goal: Help Alice encrypt a message for Bob, making sure that only Bob, with his private key, can read it."
   ],
   "id": "905173d22c00c85c"
  },
  {
   "metadata": {
    "ExecuteTime": {
     "end_time": "2024-09-01T14:47:48.266115Z",
     "start_time": "2024-09-01T14:47:47.782920Z"
    }
   },
   "cell_type": "code",
   "source": [
    "# Alice encrypts the message for Bob using Bob's public key\n",
    "!echo \"Hello Bob! Let's keep this secret.\" > message.txt\n",
    "!openssl pkeyutl -encrypt -in message.txt -pubin -inkey bob_public.pem -out encrypted_for_bob.bin\n",
    "\n",
    "!echo \"encrypted_for_bob.bin message content:\"\n",
    "!cat encrypted_for_bob.bin"
   ],
   "id": "2f8c2c3ba7d9882b",
   "outputs": [
    {
     "name": "stdout",
     "output_type": "stream",
     "text": [
      "encrypted_for_bob.bin message content:\r\n",
      "�@ �$Ǝ_�:\u00026�c�F�E��2br�\u0004���xv�|h�=�\u0019���\u001B4S��\u0007뵳V�[��r̥���_�5\u0012w���g[�,�\u0005:e9�+F�[�0�\r\n",
      "���FŞ�K'\u0010�\r\n",
      "I��\u0005&�e~1N�\u0017�Y�+\u0007\u001D\u0005\u0017�7QC��Q\u001E�$ob��XO�4\u001389\u0007;c��?%�zO=Nhgxc'֡\u001DH��#\u001A\u001D�<y\u001B@�W����i\u000E�&�f%\u0015j\u0003�X6��n����l���a��2K��εN�T�>�1g\u001FO\u001C5�"
     ]
    }
   ],
   "execution_count": 2
  },
  {
   "metadata": {},
   "cell_type": "markdown",
   "source": [
    "## Step 3: Bob Decrypts Alice's Message\n",
    "The encrypted message has safely arrived in Bob’s inbox! Now it’s time for Bob to use his private key to decrypt the message and reveal Alice's secret.\n",
    "\n",
    "Goal: Ensure that Bob can decrypt the message using his private key and read Alice’s message in plain text."
   ],
   "id": "b37c4d0f7adcd5aa"
  },
  {
   "metadata": {
    "ExecuteTime": {
     "end_time": "2024-09-01T14:47:48.532930Z",
     "start_time": "2024-09-01T14:47:48.409165Z"
    }
   },
   "cell_type": "code",
   "source": [
    "# and then RSA components of public key\n",
    "!openssl pkeyutl -decrypt -in encrypted_for_bob.bin -inkey bob_private.pem"
   ],
   "id": "f17a57796a35d3dc",
   "outputs": [
    {
     "name": "stdout",
     "output_type": "stream",
     "text": [
      "Hello Bob! Let's keep this secret.\r\n"
     ]
    }
   ],
   "execution_count": 3
  }
 ],
 "metadata": {
  "kernelspec": {
   "display_name": "Python 3",
   "language": "python",
   "name": "python3"
  },
  "language_info": {
   "codemirror_mode": {
    "name": "ipython",
    "version": 2
   },
   "file_extension": ".py",
   "mimetype": "text/x-python",
   "name": "python",
   "nbconvert_exporter": "python",
   "pygments_lexer": "ipython2",
   "version": "2.7.6"
  }
 },
 "nbformat": 4,
 "nbformat_minor": 5
}
