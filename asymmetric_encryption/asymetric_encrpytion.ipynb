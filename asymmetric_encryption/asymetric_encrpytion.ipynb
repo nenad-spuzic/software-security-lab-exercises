{
 "cells": [
  {
   "cell_type": "markdown",
   "id": "f30042afad5a5e76",
   "metadata": {},
   "source": [
    "## Introduction: The Tale of Bob and Alice - Securing Communication with Asymmetric Encryption\n",
    "In the digital age, privacy and security are paramount, especially when two people, Bob and Alice, need to exchange sensitive information over an insecure channel (email, chat or similar internet communication channels). \n",
    "This exercise will take you on a journey where you, the learner, help Alice and Bob securely communicate using asymmetric encryption.\n",
    "\n",
    "Alice wants to send a secret message to Bob, but they know that their communication could be intercepted by malicious third parties, like Eve the Eavesdropper. The solution? Encryption using asymmetric keys! Through this exercise, you'll help Alice and Bob establish a secure line of communication using encryption and decryption techniques with public and private keys.\n",
    "\n",
    "This adventure will take place on a single computer (your own), where you'll simulate both Alice and Bob, each with their own set of keys. We'll guide you step by step to help them exchange encrypted messages, decrypt them, and ensure their communication is safe and sound.\n",
    "\n",
    "Let's dive into this fascinating world of cryptography!\n"
   ]
  },
  {
   "cell_type": "markdown",
   "id": "ac3722003f901d5b",
   "metadata": {},
   "source": [
    "## Step 1: Preparing Bob and Alice's Keys (Generating Key Pairs)\n",
    "Every hero needs their tools, and in the world of cryptography, those tools are key pairs. Bob and Alice will each need a private key (kept secret) and a public key (shared openly).\n",
    "\n",
    "You will begin by generating these key pairs using the RSA algorithm:\n",
    "Goal: Generate a pair of keys for Alice and Bob that they will use to secure their communication."
   ]
  },
  {
   "cell_type": "code",
   "execution_count": null,
   "id": "66a38df5ca450e62",
   "metadata": {},
   "outputs": [],
   "source": [
    "# Generate Alice's key pair\n",
    "\n",
    "\n",
    "# Generate Bob's key pair\n"
   ]
  },
  {
   "cell_type": "markdown",
   "id": "905173d22c00c85c",
   "metadata": {},
   "source": [
    "## Step 2: Alice Encrypts a Secret Message for Bob\n",
    "Now that Alice has Bob’s public key, she can use it to encrypt a secret message that only Bob will be able to decrypt with his private key.\n",
    "\n",
    "Imagine Alice wants to send Bob the message: \"Hello Bob! Let's keep this secret.\"\n",
    "Alice will encrypt the message using Bob's public key.\n",
    "\n",
    "Goal: Help Alice encrypt a message for Bob, making sure that only Bob, with his private key, can read it."
   ]
  },
  {
   "cell_type": "code",
   "execution_count": null,
   "id": "2f8c2c3ba7d9882b",
   "metadata": {},
   "outputs": [],
   "source": [
    "!echo \"Hello Bob! Let's keep this secret.\" > message.txt\n",
    "\n",
    "#Insert code here to encrypt this message into encrypted_for_bob.bin\n",
    "\n",
    "#leave code below to print out the message content\n",
    "!echo \"encrypted_for_bob.bin message content:\"\n",
    "!cat encrypted_for_bob.bin"
   ]
  },
  {
   "cell_type": "markdown",
   "id": "b37c4d0f7adcd5aa",
   "metadata": {},
   "source": [
    "## Step 3: Bob Decrypts Alice's Message\n",
    "The encrypted message has safely arrived in Bob’s inbox! Now it’s time for Bob to use his private key to decrypt the message and reveal Alice's secret.\n",
    "\n",
    "Goal: Ensure that Bob can decrypt the message using his private key and read Alice’s message in plain text."
   ]
  },
  {
   "cell_type": "code",
   "execution_count": null,
   "id": "f17a57796a35d3dc",
   "metadata": {},
   "outputs": [],
   "source": [
    "# write the solution below"
   ]
  }
 ],
 "metadata": {
  "kernelspec": {
   "display_name": "Python 3 (ipykernel)",
   "language": "python",
   "name": "python3"
  },
  "language_info": {
   "codemirror_mode": {
    "name": "ipython",
    "version": 3
   },
   "file_extension": ".py",
   "mimetype": "text/x-python",
   "name": "python",
   "nbconvert_exporter": "python",
   "pygments_lexer": "ipython3",
   "version": "3.12.3"
  }
 },
 "nbformat": 4,
 "nbformat_minor": 5
}
